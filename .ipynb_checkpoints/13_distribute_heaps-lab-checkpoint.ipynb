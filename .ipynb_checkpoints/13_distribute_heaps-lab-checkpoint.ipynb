{
 "cells": [
  {
   "cell_type": "markdown",
   "metadata": {
    "collapsed": true
   },
   "source": [
    "## Q1.  Max heap\n",
    "\n",
    "Implement a max heap instead of a min heap, by having the constructor explicitly pass the \"comparison\" operator in. Replace `min` and `del_min` by `dominant` and `del_dominant` methods. Change the classmethods to also take in the operator."
   ]
  },
  {
   "cell_type": "code",
   "execution_count": 1,
   "metadata": {
    "collapsed": true
   },
   "outputs": [],
   "source": [
    "#your code here\n",
    "class BinaryHeap:\n",
    "    def __init__(self, operator):\n",
    "        self.operator = operator\n",
    "        self.storage=[None]\n",
    "        self.upto=0\n",
    "        \n",
    "    @classmethod\n",
    "    def heapify_slow(cls, it):\n",
    "        inst = cls()\n",
    "        for i in it:\n",
    "            inst.insert(i)\n",
    "        return inst\n",
    "       \n",
    "    @classmethod\n",
    "    def heapify(cls,it, operator):\n",
    "        inst = cls(operator)\n",
    "        inst.storage = inst.storage + list(it)\n",
    "        fromhalfway = (len(inst.storage) - 1) // 2\n",
    "        inst.upto = len(inst.storage) - 1\n",
    "        counter = 0\n",
    "        while (fromhalfway > 0):\n",
    "            #dotify(inst.storage, \"onheapifyimg\"+str(counter).zfill(2))\n",
    "            counter += 1\n",
    "            inst.sift_down(fromhalfway)\n",
    "            fromhalfway -= 1\n",
    "        #dotify(inst.storage, \"onheapifyimg\"+str(counter).zfill(2))\n",
    "        return inst\n",
    "        \n",
    "        \n",
    "    def insert(self, value):\n",
    "        self.storage.append(value)\n",
    "        self.upto += 1\n",
    "        self.sift_up(self.upto)\n",
    "\n",
    "    def sift_up(self, i):\n",
    "        parent = i // 2\n",
    "        #if parent > 0 and self.storage[i] < self.storage[parent]:\n",
    "        if parent > 0 and self.operator(self.storage[i], self.storage[parent]):\n",
    "            self.storage[i], self.storage[parent] = self.storage[parent], self.storage[i]\n",
    "            self.sift_up(parent)\n",
    "     \n",
    "    def _min_child(self, i):\n",
    "        if 2*i + 1 > self.upto:\n",
    "            return 2*i\n",
    "        else:\n",
    "            l = (self.storage[2*i], self.storage[2*i+1])\n",
    "            if self.operator(self.storage[2*i], self.storage[2*i+1]):\n",
    "                return 2*i + l.index(self.storage[2*i])\n",
    "            else:\n",
    "                return 2*i + l.index(self.storage[2*i+1])\n",
    "            #return 2*i + l.index(min(l))\n",
    "    \n",
    "    def sift_down(self, i):\n",
    "        if 2*i <= self.upto:\n",
    "            child = self._min_child(i)\n",
    "            #if self.storage[i] > self.storage[child]:\n",
    "            if not self.operator(self.storage[i], self.storage[child]):    \n",
    "                self.storage[child], self.storage[i] = self.storage[i], self.storage[child]\n",
    "                self.sift_down(child)\n",
    "        \n",
    "    def dominant(self):\n",
    "        return self.storage[1]\n",
    "    \n",
    "    def del_dominant(self):\n",
    "        minval = self.storage[1]\n",
    "        self.storage[1], self.storage[self.upto] = self.storage[self.upto], self.storage[1]\n",
    "        self.storage.pop()\n",
    "        self.upto -= 1\n",
    "        self.sift_down(1)\n",
    "        return minval"
   ]
  },
  {
   "cell_type": "markdown",
   "metadata": {},
   "source": [
    "Lets use your code to find the minimum as well as the maximum of the old array. Run the code in the following cells and make sure you did it right..."
   ]
  },
  {
   "cell_type": "code",
   "execution_count": 2,
   "metadata": {
    "collapsed": true
   },
   "outputs": [],
   "source": [
    "data = [1,8,5,9,23,2,45,6,7,99,-5]"
   ]
  },
  {
   "cell_type": "code",
   "execution_count": 3,
   "metadata": {
    "collapsed": false
   },
   "outputs": [
    {
     "name": "stdout",
     "output_type": "stream",
     "text": [
      "[None, -5, 1, 2, 6, 8, 5, 45, 9, 7, 99, 23]\n"
     ]
    },
    {
     "data": {
      "text/plain": [
       "-5"
      ]
     },
     "execution_count": 3,
     "metadata": {},
     "output_type": "execute_result"
    }
   ],
   "source": [
    "from operator import gt, lt\n",
    "bh = BinaryHeap.heapify(data, lt)\n",
    "print(bh.storage)\n",
    "bh.dominant()"
   ]
  },
  {
   "cell_type": "code",
   "execution_count": 4,
   "metadata": {
    "collapsed": false
   },
   "outputs": [
    {
     "name": "stdout",
     "output_type": "stream",
     "text": [
      "[None, 99, 23, 45, 9, 8, 2, 5, 6, 7, 1, -5]\n"
     ]
    },
    {
     "data": {
      "text/plain": [
       "99"
      ]
     },
     "execution_count": 4,
     "metadata": {},
     "output_type": "execute_result"
    }
   ],
   "source": [
    "bh = BinaryHeap.heapify(data, gt)\n",
    "print(bh.storage)\n",
    "bh.dominant()"
   ]
  },
  {
   "cell_type": "markdown",
   "metadata": {},
   "source": [
    "## Q2. Heapsort\n",
    "\n",
    "Heapsort is an algorithm that takes the idea of the selection sort algorithm and replces the inner loop by the use of a max-heap."
   ]
  },
  {
   "cell_type": "code",
   "execution_count": 5,
   "metadata": {
    "collapsed": true
   },
   "outputs": [],
   "source": [
    "def selection_sort(A):\n",
    "    for i in range(len(A)):\n",
    "        print(\"<<<\",A)\n",
    "        min_index = i\n",
    "        for j in range(i+1, len(A)):\n",
    "            if A[j] < A[min_index]:\n",
    "                min_index = j\n",
    "        A[i], A[min_index] = A[min_index], A[i]\n",
    "        print(\">>>\",A)"
   ]
  },
  {
   "cell_type": "code",
   "execution_count": 6,
   "metadata": {
    "collapsed": false
   },
   "outputs": [
    {
     "name": "stdout",
     "output_type": "stream",
     "text": [
      "<<< [1, 8, 5, 9, 23, 2, 45, 6, 7, 99, -5]\n",
      ">>> [-5, 8, 5, 9, 23, 2, 45, 6, 7, 99, 1]\n",
      "<<< [-5, 8, 5, 9, 23, 2, 45, 6, 7, 99, 1]\n",
      ">>> [-5, 1, 5, 9, 23, 2, 45, 6, 7, 99, 8]\n",
      "<<< [-5, 1, 5, 9, 23, 2, 45, 6, 7, 99, 8]\n",
      ">>> [-5, 1, 2, 9, 23, 5, 45, 6, 7, 99, 8]\n",
      "<<< [-5, 1, 2, 9, 23, 5, 45, 6, 7, 99, 8]\n",
      ">>> [-5, 1, 2, 5, 23, 9, 45, 6, 7, 99, 8]\n",
      "<<< [-5, 1, 2, 5, 23, 9, 45, 6, 7, 99, 8]\n",
      ">>> [-5, 1, 2, 5, 6, 9, 45, 23, 7, 99, 8]\n",
      "<<< [-5, 1, 2, 5, 6, 9, 45, 23, 7, 99, 8]\n",
      ">>> [-5, 1, 2, 5, 6, 7, 45, 23, 9, 99, 8]\n",
      "<<< [-5, 1, 2, 5, 6, 7, 45, 23, 9, 99, 8]\n",
      ">>> [-5, 1, 2, 5, 6, 7, 8, 23, 9, 99, 45]\n",
      "<<< [-5, 1, 2, 5, 6, 7, 8, 23, 9, 99, 45]\n",
      ">>> [-5, 1, 2, 5, 6, 7, 8, 9, 23, 99, 45]\n",
      "<<< [-5, 1, 2, 5, 6, 7, 8, 9, 23, 99, 45]\n",
      ">>> [-5, 1, 2, 5, 6, 7, 8, 9, 23, 99, 45]\n",
      "<<< [-5, 1, 2, 5, 6, 7, 8, 9, 23, 99, 45]\n",
      ">>> [-5, 1, 2, 5, 6, 7, 8, 9, 23, 45, 99]\n",
      "<<< [-5, 1, 2, 5, 6, 7, 8, 9, 23, 45, 99]\n",
      ">>> [-5, 1, 2, 5, 6, 7, 8, 9, 23, 45, 99]\n"
     ]
    }
   ],
   "source": [
    "selection_sort(data)"
   ]
  },
  {
   "cell_type": "markdown",
   "metadata": {},
   "source": [
    "The basic idea is this. First heapify the entire array. The max should then be the 1st element (save our placeholder None) of the heap's storage. Swap this max with the last element to store the maximum at the end. Now you've put in some new wierd value at the top of the heap and have lost the heap property. You have an additional element at the end.\n",
    "\n",
    "In-place in the array, without making any additional allocations, consider all but the last element to be the new \"heap\". What method in the heap class must we use to restore the heap property?\n",
    "\n",
    "Use this method to sort the array. Print the before and after for each iteration of the outer loop as above. What is the $O(n)$ for this method?"
   ]
  },
  {
   "cell_type": "code",
   "execution_count": 7,
   "metadata": {
    "collapsed": false
   },
   "outputs": [],
   "source": [
    "#your code here\n",
    "def heap_sort(A):\n",
    "    # First heapify the entire array\n",
    "    bh = BinaryHeap.heapify(A, gt)\n",
    "    A = bh.storage\n",
    "    length = len(bh.storage)\n",
    "    for i in range(1, length):\n",
    "        print(\"<<<\",bh.storage)\n",
    "        min_index = i\n",
    "        # Swap this max with the last element to store the maximum at the end. \n",
    "        bh.storage[1], bh.storage[length-i] = bh.storage[length-i], bh.storage[1]    \n",
    "        # You have an additional element at the end, remove the last element from the heap\n",
    "        bh.upto -= 1\n",
    "        #Now you've put in some new wierd value at the top of the heap and have lost the heap property, sift it down to the correct location\n",
    "        bh.sift_down(1)\n",
    "        print(\">>>\",A)"
   ]
  },
  {
   "cell_type": "code",
   "execution_count": 8,
   "metadata": {
    "collapsed": false
   },
   "outputs": [
    {
     "name": "stdout",
     "output_type": "stream",
     "text": [
      "<<< [None, 99, 45, 8, 23, 6, 7, 2, 9, 5, 1, -5]\n",
      ">>> [None, 45, 23, 8, 9, 6, 7, 2, -5, 5, 1, 99]\n",
      "<<< [None, 45, 23, 8, 9, 6, 7, 2, -5, 5, 1, 99]\n",
      ">>> [None, 23, 9, 8, 5, 6, 7, 2, -5, 1, 45, 99]\n",
      "<<< [None, 23, 9, 8, 5, 6, 7, 2, -5, 1, 45, 99]\n",
      ">>> [None, 9, 6, 8, 5, 1, 7, 2, -5, 23, 45, 99]\n",
      "<<< [None, 9, 6, 8, 5, 1, 7, 2, -5, 23, 45, 99]\n",
      ">>> [None, 8, 6, 7, 5, 1, -5, 2, 9, 23, 45, 99]\n",
      "<<< [None, 8, 6, 7, 5, 1, -5, 2, 9, 23, 45, 99]\n",
      ">>> [None, 7, 6, 2, 5, 1, -5, 8, 9, 23, 45, 99]\n",
      "<<< [None, 7, 6, 2, 5, 1, -5, 8, 9, 23, 45, 99]\n",
      ">>> [None, 6, 5, 2, -5, 1, 7, 8, 9, 23, 45, 99]\n",
      "<<< [None, 6, 5, 2, -5, 1, 7, 8, 9, 23, 45, 99]\n",
      ">>> [None, 5, 1, 2, -5, 6, 7, 8, 9, 23, 45, 99]\n",
      "<<< [None, 5, 1, 2, -5, 6, 7, 8, 9, 23, 45, 99]\n",
      ">>> [None, 2, 1, -5, 5, 6, 7, 8, 9, 23, 45, 99]\n",
      "<<< [None, 2, 1, -5, 5, 6, 7, 8, 9, 23, 45, 99]\n",
      ">>> [None, 1, -5, 2, 5, 6, 7, 8, 9, 23, 45, 99]\n",
      "<<< [None, 1, -5, 2, 5, 6, 7, 8, 9, 23, 45, 99]\n",
      ">>> [None, -5, 1, 2, 5, 6, 7, 8, 9, 23, 45, 99]\n",
      "<<< [None, -5, 1, 2, 5, 6, 7, 8, 9, 23, 45, 99]\n",
      ">>> [None, -5, 1, 2, 5, 6, 7, 8, 9, 23, 45, 99]\n"
     ]
    }
   ],
   "source": [
    "heap_sort(data)"
   ]
  },
  {
   "cell_type": "markdown",
   "metadata": {},
   "source": [
    "*your answer here*\n",
    "\n",
    "The time complexity of heap sort is $O(n⋅log(n))$, and sifting down of the top element to the correct position is $log(n)$, thus the overall time complexity is $O(n⋅log(n))$.\n",
    "\n",
    "Space complexity is $O(1)$ since the sorting takes place inside array. \n"
   ]
  },
  {
   "cell_type": "markdown",
   "metadata": {},
   "source": [
    "## Q3. Median maintenance\n",
    "\n",
    "Median maintenance is a very cool algorithm to find an online median. \n",
    "\n",
    "We create two arrays to test our implementation, using `np.median` to compute our answer..."
   ]
  },
  {
   "cell_type": "code",
   "execution_count": 9,
   "metadata": {
    "collapsed": false
   },
   "outputs": [],
   "source": [
    "import random\n",
    "import numpy as np"
   ]
  },
  {
   "cell_type": "code",
   "execution_count": 10,
   "metadata": {
    "collapsed": false
   },
   "outputs": [
    {
     "name": "stdout",
     "output_type": "stream",
     "text": [
      "150 486.0\n",
      "151 483.0\n"
     ]
    }
   ],
   "source": [
    "l = [random.randint(1,1000) for _ in range(150)]\n",
    "print(len(l), np.median(l))\n",
    "l2 = l + [random.randint(1,1000)]\n",
    "print(len(l2), np.median(l2))"
   ]
  },
  {
   "cell_type": "markdown",
   "metadata": {},
   "source": [
    "You will implement `def online_median(iterator)` which is a generaor yielding successive values of your online median. \n",
    "\n",
    "The algorithm is as follows:\n",
    "\n",
    "We'll use 2 heaps, a max heap for the lower half of the data, and a min-heap for the upper half. We take the first 2values in our data and assign the smaller value to the max heap, while the larger value goes to the min-heap. Then, as we \"insert\" subsequent values in one of the two heaps, the following holds: if we keep the number of elements in both heaps equal (for the even case) or at-most differing by one, the median is respectively the average of the two dominants or the dominant in the heap with one xtra item.\n",
    "\n",
    "What then is our strategy for this balanced insertion? Quite simple really: if a new value is not as dominant as the dominant value, add it to that heap. If it is more dominant, add it to the other. If two items in a row get added to the same heap, the heaps will be out of balance by more than one. In this case, take the dominant element from the larger heap and simply add it to the smaller one."
   ]
  },
  {
   "cell_type": "code",
   "execution_count": 14,
   "metadata": {
    "collapsed": false
   },
   "outputs": [],
   "source": [
    "#your code here\n",
    "def online_median(iterator):\n",
    "    maxheap = BinaryHeap(gt)\n",
    "    minheap = BinaryHeap(lt)\n",
    "    startup = (next(iterator), next(iterator))\n",
    "    print(startup)\n",
    "    maxheap.insert(min(startup))\n",
    "    minheap.insert(max(startup))\n",
    "    minheapct = 1\n",
    "    maxheapct = 1\n",
    "    for item in iterator:\n",
    "        #print(item, minheapct, maxheapct)\n",
    "        if item < maxheap.dominant():\n",
    "            maxheap.insert(item)\n",
    "            maxheapct += 1\n",
    "        else:\n",
    "            minheap.insert(item)\n",
    "            minheapct += 1\n",
    "        if maxheapct - minheapct > 1:\n",
    "            maxval = maxheap.del_dominant()\n",
    "            maxheapct -= 1\n",
    "            minheap.insert(maxval)\n",
    "            minheapct += 1\n",
    "        if minheapct - maxheapct > 1:\n",
    "            minval = minheap.del_dominant()\n",
    "            minheapct -= 1\n",
    "            maxheap.insert(minval)\n",
    "            maxheapct += 1\n",
    "        assert abs(minheapct - maxheapct)<=1, \"heaps should not be out of sync by more than 1\"\n",
    "        if minheapct == maxheapct:\n",
    "            median = (maxheap.dominant() + minheap.dominant())/2\n",
    "        elif minheapct - maxheapct == 1:\n",
    "            median = minheap.dominant()\n",
    "        elif maxheapct - minheapct == 1:\n",
    "            median = maxheap.dominant()\n",
    "        yield median\n",
    "\n",
    "def online_median(it):\n",
    "    heap_min = BinaryHeap(lt)\n",
    "    heap_max = BinaryHeap(gt)\n",
    "\n",
    "    temp1 = next(it)\n",
    "    #len of it will be larger than 1. yield the first number first\n",
    "    yield temp1\n",
    "    \n",
    "    temp2 = next(it)\n",
    "    \n",
    "    ##Take the first 2 values \n",
    "    num_larger = max(temp1, temp2)\n",
    "    num_smaller = min(temp1, temp2)\n",
    "    \n",
    "    heap_min.insert(num_larger)\n",
    "    heap_max.insert(num_smaller)\n",
    "    \n",
    "    yield (num_larger + num_smaller)/2.0\n",
    "    \n",
    "    #for the 3rd number onwards, add it to the heap and yield accordingly\n",
    "    #for i in it[2:]:\n",
    "    \n",
    "    while (True):\n",
    "        i = next(it)\n",
    "        #insert i into the right heap\n",
    "        #print (\"inserting:\"+ str(i))\n",
    "        if (i < heap_min.dominant()):\n",
    "            heap_max.insert(i)\n",
    "        else:\n",
    "            heap_min.insert(i)\n",
    "        if heap_max.upto > heap_min.upto: \n",
    "            if heap_max.upto > heap_min.upto + 1:\n",
    "                heap_min.insert(heap_max.dominant())\n",
    "                heap_max.del_dominant()\n",
    "                yield (heap_max.dominant() + heap_min.dominant()) /2.0\n",
    "            yield heap_max.dominant()\n",
    "        if heap_min.upto > heap_max.upto:\n",
    "            if heap_min.upto > heap_max.upto + 1:\n",
    "                heap_max.insert(heap_min.dominant())\n",
    "                heap_min.del_dominant()\n",
    "                yield (heap_max.dominant() + heap_min.dominant()) /2.0\n",
    "            yield heap_min.dominant()\n",
    "\n",
    "        #if heap_max and heap_min are the same size, yield the average\n",
    "        if heap_max.upto == heap_min.upto:\n",
    "            yield (heap_max.dominant() + heap_min.dominant()) /2.0"
   ]
  },
  {
   "cell_type": "markdown",
   "metadata": {},
   "source": [
    "Do your answers match?"
   ]
  },
  {
   "cell_type": "code",
   "execution_count": 15,
   "metadata": {
    "collapsed": false
   },
   "outputs": [
    {
     "name": "stdout",
     "output_type": "stream",
     "text": [
      "486.0\n"
     ]
    },
    {
     "data": {
      "text/plain": [
       "[<matplotlib.lines.Line2D at 0x107c63f98>]"
      ]
     },
     "execution_count": 15,
     "metadata": {},
     "output_type": "execute_result"
    },
    {
     "data": {
      "image/png": "[encoded data removed]",
      "text/plain": [
       "<matplotlib.figure.Figure at 0x107920710>"
      ]
     },
     "metadata": {},
     "output_type": "display_data"
    }
   ],
   "source": [
    "%matplotlib inline\n",
    "import matplotlib.pyplot as plt\n",
    "medians = list(online_median(iter(l)))\n",
    "print(medians[-1])\n",
    "plt.plot(medians)"
   ]
  },
  {
   "cell_type": "code",
   "execution_count": 16,
   "metadata": {
    "collapsed": false
   },
   "outputs": [
    {
     "data": {
      "text/plain": [
       "483"
      ]
     },
     "execution_count": 16,
     "metadata": {},
     "output_type": "execute_result"
    }
   ],
   "source": [
    "list(online_median(iter(l2)))[-1]"
   ]
  },
  {
   "cell_type": "markdown",
   "metadata": {},
   "source": [
    "What is the $O(n)$ behavior of this median maintenance algorithm?"
   ]
  },
  {
   "cell_type": "markdown",
   "metadata": {},
   "source": [
    "*your answer here*\n"
   ]
  },
  {
   "cell_type": "markdown",
   "metadata": {},
   "source": [
    "Lastly, lets repeat the analysis we did last time on the randomly generated data."
   ]
  },
  {
   "cell_type": "code",
   "execution_count": 17,
   "metadata": {
    "collapsed": true
   },
   "outputs": [],
   "source": [
    "from random import normalvariate, random\n",
    "from itertools import count\n",
    "def make_data(m, stop=None):\n",
    "    for _ in count():\n",
    "        if stop and _ > stop:\n",
    "            break\n",
    "        yield 1.0e09 + normalvariate(0, m*random() )"
   ]
  },
  {
   "cell_type": "code",
   "execution_count": 18,
   "metadata": {
    "collapsed": false
   },
   "outputs": [
    {
     "name": "stdout",
     "output_type": "stream",
     "text": [
      "<class 'generator'>\n"
     ]
    },
    {
     "data": {
      "text/plain": [
       "[1000000000.0009009,\n",
       " 1000000000.006801,\n",
       " 1000000000.0277625,\n",
       " 1000000000.048724,\n",
       " 1000000000.0277625,\n",
       " 1000000000.048724,\n",
       " 1000000000.0612007,\n",
       " 1000000000.0736774,\n",
       " 1000000000.0612007,\n",
       " 1000000000.048724]"
      ]
     },
     "execution_count": 18,
     "metadata": {},
     "output_type": "execute_result"
    }
   ],
   "source": [
    "g = online_median(make_data(5, 100))\n",
    "print(type(g))\n",
    "out = list(g)\n",
    "out[-10:]"
   ]
  },
  {
   "cell_type": "code",
   "execution_count": 19,
   "metadata": {
    "collapsed": false
   },
   "outputs": [
    {
     "data": {
      "text/plain": [
       "[<matplotlib.lines.Line2D at 0x107cce390>]"
      ]
     },
     "execution_count": 19,
     "metadata": {},
     "output_type": "execute_result"
    },
    {
     "data": {
      "image/png": "[encoded data removed]",
      "text/plain": [
       "<matplotlib.figure.Figure at 0x107c750b8>"
      ]
     },
     "metadata": {},
     "output_type": "display_data"
    }
   ],
   "source": [
    "plt.plot(out)"
   ]
  },
  {
   "cell_type": "code",
   "execution_count": null,
   "metadata": {
    "collapsed": true
   },
   "outputs": [],
   "source": []
  }
 ],
 "metadata": {
  "kernelspec": {
   "display_name": "Python 3",
   "language": "python",
   "name": "python3"
  },
  "language_info": {
   "codemirror_mode": {
    "name": "ipython",
    "version": 3
   },
   "file_extension": ".py",
   "mimetype": "text/x-python",
   "name": "python",
   "nbconvert_exporter": "python",
   "pygments_lexer": "ipython3",
   "version": "3.5.1"
  }
 },
 "nbformat": 4,
 "nbformat_minor": 0
}
